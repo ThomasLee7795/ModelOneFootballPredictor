{
 "cells": [
  {
   "cell_type": "code",
   "execution_count": 14,
   "metadata": {},
   "outputs": [],
   "source": [
    "import pandas as pd\n",
    "import numpy as np\n",
    "import scipy \n",
    "import sys"
   ]
  },
  {
   "cell_type": "code",
   "execution_count": 15,
   "metadata": {},
   "outputs": [],
   "source": [
    "# load results from 'home_team_prediction.ipynb' and 'away_team_prediction.ipynb'\n",
    "df_home = pd.read_excel('df_all_seasons_home.xlsx')\n",
    "df_away = pd.read_excel('df_all_seasons_away.xlsx')"
   ]
  },
  {
   "cell_type": "code",
   "execution_count": 16,
   "metadata": {},
   "outputs": [],
   "source": [
    "cols_to_use = df_home.columns.difference(df_away.columns)"
   ]
  },
  {
   "cell_type": "code",
   "execution_count": 17,
   "metadata": {},
   "outputs": [],
   "source": [
    "df_all = pd.merge(df_away, df_home[cols_to_use], left_index=True, right_index=True, how='outer')"
   ]
  },
  {
   "cell_type": "code",
   "execution_count": 18,
   "metadata": {},
   "outputs": [],
   "source": [
    "del df_all['Unnamed: 0']"
   ]
  },
  {
   "cell_type": "code",
   "execution_count": 19,
   "metadata": {},
   "outputs": [],
   "source": [
    "# create predicted goal differences subtracting predicted home and away goals from each other and vice vers\n",
    "df_all['pred_HTGDIFF'] = df_all['FTHG'] - df_all['FTAG']\n",
    "df_all['pred_ATGDIFF'] = df_all['FTAG'] - df_all['FTHG']"
   ]
  },
  {
   "cell_type": "code",
   "execution_count": 20,
   "metadata": {},
   "outputs": [],
   "source": [
    "df_all.rename(columns={\"HTGDIFF\": \"test_HTGDIFF\", \"ATGDIFF\": \"test_ATGDIFF\", 'FTHG': 'pred_FTHG', 'FTAG':'pred_FTAG'}, inplace=True)"
   ]
  },
  {
   "cell_type": "code",
   "execution_count": 21,
   "metadata": {},
   "outputs": [],
   "source": [
    "df_all = df_all.reindex(columns = ['Day', 'Month', 'Year', 'HomeTeam', 'AwayTeam', 'pred_FTHG', 'pred_FTAG',\n",
    "       'test_HTGDIFF', 'pred_HTGDIFF', 'test_ATGDIFF', 'pred_ATGDIFF', 'AVGATGDIFF', 'AVGFTAG','AVGFTHG', 'AVGHTGDIFF'])"
   ]
  },
  {
   "cell_type": "code",
   "execution_count": 22,
   "metadata": {},
   "outputs": [],
   "source": [
    "df_all.to_excel('both.xlsx')"
   ]
  },
  {
   "cell_type": "code",
   "execution_count": 23,
   "metadata": {},
   "outputs": [
    {
     "name": "stdout",
     "output_type": "stream",
     "text": [
      "MAE: 1.36 Goals.\n",
      "Accuracy: 24.41 %.\n"
     ]
    }
   ],
   "source": [
    "# counting where error = 0 which means prediction and test data are the same = success\n",
    "# then dividing it by the length of all errors\n",
    "errors = abs(df_all['pred_HTGDIFF'] - df_all['test_HTGDIFF'])\n",
    "accuracy = (errors==0).sum() / len(errors) * 100\n",
    "print('MAE:', round(np.mean(errors),2), 'Goals.')\n",
    "print('Accuracy:', round(accuracy, 2), '%.')"
   ]
  },
  {
   "cell_type": "code",
   "execution_count": 24,
   "metadata": {},
   "outputs": [],
   "source": [
    "total_wins=(df_all[\"pred_HTGDIFF\"] > 0).sum()\n",
    "total_draw=(df_all[\"pred_HTGDIFF\"] == 0).sum()\n",
    "total_loss=(df_all[\"pred_HTGDIFF\"] < 0).sum()"
   ]
  },
  {
   "cell_type": "code",
   "execution_count": 25,
   "metadata": {},
   "outputs": [],
   "source": [
    "common_win = ((df_all[\"test_HTGDIFF\"] > 0) & (df_all[\"pred_HTGDIFF\"] > 0)).sum()\n",
    "common_draw = ((df_all[\"test_HTGDIFF\"] == 0) & (df_all[\"pred_HTGDIFF\"] == 0)).sum()\n",
    "common_lost = ((df_all[\"test_HTGDIFF\"] < 0) & (df_all[\"pred_HTGDIFF\"] < 0)).sum()"
   ]
  },
  {
   "cell_type": "code",
   "execution_count": 26,
   "metadata": {},
   "outputs": [
    {
     "name": "stdout",
     "output_type": "stream",
     "text": [
      "Correct Prediction Total: 52.35 %\n",
      "Correct Prediction Share Wins: 64.39 %\n",
      "Correct Prediction Share Draws: 24.64 %\n",
      "Correct Prediction Share Lost: 68.67 %\n"
     ]
    }
   ],
   "source": [
    "print('Correct Prediction Total: {} %'.format(np.round(((common_win+common_draw+common_lost)/df_all.shape[0]) * 100,2)))\n",
    "print('Correct Prediction Share Wins: {} %'.format(np.round((common_win /total_wins)*100, 2)))\n",
    "print('Correct Prediction Share Draws: {} %'.format(np.round((common_draw / total_draw)*100,2)))\n",
    "print('Correct Prediction Share Lost: {} %'.format(np.round((common_lost / total_loss)*100,2)))"
   ]
  },
  {
   "cell_type": "code",
   "execution_count": null,
   "metadata": {},
   "outputs": [],
   "source": []
  }
 ],
 "metadata": {
  "kernelspec": {
   "display_name": "Python 3",
   "language": "python",
   "name": "python3"
  },
  "language_info": {
   "codemirror_mode": {
    "name": "ipython",
    "version": 3
   },
   "file_extension": ".py",
   "mimetype": "text/x-python",
   "name": "python",
   "nbconvert_exporter": "python",
   "pygments_lexer": "ipython3",
   "version": "3.7.4"
  }
 },
 "nbformat": 4,
 "nbformat_minor": 2
}
